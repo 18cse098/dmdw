{
  "nbformat": 4,
  "nbformat_minor": 0,
  "metadata": {
    "colab": {
      "name": "Untitled2.ipynb",
      "provenance": [],
      "authorship_tag": "ABX9TyOorPn6wW9ElqNBSjp+J7AA",
      "include_colab_link": true
    },
    "kernelspec": {
      "name": "python3",
      "display_name": "Python 3"
    }
  },
  "cells": [
    {
      "cell_type": "markdown",
      "metadata": {
        "id": "view-in-github",
        "colab_type": "text"
      },
      "source": [
        "<a href=\"https://colab.research.google.com/github/18cse098/dmdw/blob/main/Untitled2.ipynb\" target=\"_parent\"><img src=\"https://colab.research.google.com/assets/colab-badge.svg\" alt=\"Open In Colab\"/></a>"
      ]
    },
    {
      "cell_type": "code",
      "metadata": {
        "id": "eNQ2LlyoY5Ya"
      },
      "source": [
        "import numpy\n",
        "from scipy import stats"
      ],
      "execution_count": 4,
      "outputs": []
    },
    {
      "cell_type": "code",
      "metadata": {
        "id": "vMAfCRkaZ2FY"
      },
      "source": [
        "weight=[56,60,62,65,70]"
      ],
      "execution_count": 6,
      "outputs": []
    },
    {
      "cell_type": "code",
      "metadata": {
        "id": "8qz10dzJZ_K5"
      },
      "source": [
        "x=numpy.mean(weight)\n",
        "y=numpy.median(weight)\n",
        "z=stats.mode(weight)\n",
        "s=numpy.std(weight)\n",
        "v=numpy.var(weight)\n"
      ],
      "execution_count": 7,
      "outputs": []
    },
    {
      "cell_type": "code",
      "metadata": {
        "colab": {
          "base_uri": "https://localhost:8080/"
        },
        "id": "-1wdcI-zabiW",
        "outputId": "6762dddf-5fd4-450e-a211-94ba5e8f4cb5"
      },
      "source": [
        "print(\"mean is:\",x)\n",
        "print(\"median  is:\",y)\n",
        "print(\"mode is:\",z)\n",
        "print(\"standard deviation is:\",s)\n",
        "print(\"varience is:\",v)"
      ],
      "execution_count": 9,
      "outputs": [
        {
          "output_type": "stream",
          "text": [
            "mean is: 62.6\n",
            "median  is: 62.0\n",
            "mode is: ModeResult(mode=array([56]), count=array([1]))\n",
            "standard deviation is: 4.715930449020639\n",
            "varience is: 22.24\n"
          ],
          "name": "stdout"
        }
      ]
    }
  ]
}